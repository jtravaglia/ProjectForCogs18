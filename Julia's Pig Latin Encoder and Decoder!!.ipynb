{
 "cells": [
  {
   "cell_type": "markdown",
   "id": "52893e3b",
   "metadata": {},
   "source": [
    "## Welcome to Julia's *Pig Latin* Encoder!\n",
    "This program is meant to do three things.\n",
    "1. Ask a user if they would like to encode some sort of text\n",
    "2. Encode their text\n",
    "3. Ask the user if they would like to preform another task of if they are done. Loops if they want to preform another task.\n",
    "\n",
    "I designed this code by reading a lot about the structure of Pig Latin on the website https://lighthouseonline.com/blog-en/what-is-pig-latin/\n",
    "\n",
    "It was important for me to understand it well so that I could figure out how to make a function 'fluent' in it, so to speak!"
   ]
  },
  {
   "cell_type": "code",
   "execution_count": null,
   "id": "b3c71f2f",
   "metadata": {},
   "outputs": [],
   "source": [
    "from ProjectCode import piglatin_encode, piglatin_decode, process_text\n",
    "import re"
   ]
  },
  {
   "cell_type": "code",
   "execution_count": null,
   "id": "13d42bde",
   "metadata": {},
   "outputs": [],
   "source": [
    "# Here is the code that was imported in the last kernel being put to work. \n",
    "# It is taking an input, the string hello and converting it to Pig Latin\n",
    "word_to_encode = \"hello\"\n",
    "encoded_word = piglatin_encode(word_to_encode)\n",
    "print(f\"Encoded: {encoded_word}\")"
   ]
  },
  {
   "cell_type": "markdown",
   "id": "e08bba95",
   "metadata": {},
   "source": [
    "Now, here are some assertion statements..."
   ]
  },
  {
   "cell_type": "code",
   "execution_count": null,
   "id": "0953a657",
   "metadata": {},
   "outputs": [],
   "source": [
    "assert piglatin_encode(\"fruit\") == \"uitfray\"\n",
    "\n",
    "assert piglatin_encode(\"Pig\") == \"Igpay\"\n",
    "\n",
    "sentence = \"This sentence is meant to make sure it works.\"\n",
    "encoded_sentence = process_text(sentence, piglatin_encode)"
   ]
  },
  {
   "cell_type": "code",
   "execution_count": null,
   "id": "ccd348f1",
   "metadata": {},
   "outputs": [],
   "source": [
    "\n",
    "def main():\n",
    "    print(\"Welcome to Julia's Pig Latin Encryption program!\")\n",
    "    \n",
    "    while True:\n",
    "        choice = input(\"Do you want to encode  from Pig Latin? (Type 'encode' or 'decode'): \").lower()\n",
    "            \n",
    "        if choice not in ['encode']:\n",
    "            print(\"Invalid choice, silly. Please enter 'encode'.\")\n",
    "            continue\n",
    "        \n",
    "        user_input = input(f\"Enter the text to {choice} (including punctuation): \")\n",
    "        \n",
    "        if choice == 'encode':\n",
    "            result = process_text(user_input, piglatin_encode)\n",
    "            print(f\"\\nEncoded Pig Latin: {result}\\n\")\n",
    "            \n",
    "        another = input(\"Shall we try another sentence? (yes/no): \").lower()\n",
    "        if another == 'no':\n",
    "            print(\"Okay, it was nice chatting with you!\")\n",
    "            break\n",
    "    \n",
    "if __name__ == \"__main__\":\n",
    "    main()"
   ]
  },
  {
   "cell_type": "markdown",
   "id": "ea065e16",
   "metadata": {},
   "source": [
    " "
   ]
  },
  {
   "cell_type": "markdown",
   "id": "efdea44f",
   "metadata": {},
   "source": [
    "## Now, here is a file that is stored elsewhere that we can,\n",
    "### 1. See the content of a file that was already made.\n",
    "### 2. Then, it will open a file and encrypt its contents.\n",
    "### 3. Then, it will print out the encrypted content!"
   ]
  },
  {
   "cell_type": "code",
   "execution_count": null,
   "id": "85157456",
   "metadata": {},
   "outputs": [],
   "source": [
    "with open('Encrypt.txt', 'r') as file:\n",
    "    content = file.read()\n",
    "    print(content)"
   ]
  },
  {
   "cell_type": "markdown",
   "id": "f2d2b91a",
   "metadata": {},
   "source": [
    " "
   ]
  },
  {
   "cell_type": "code",
   "execution_count": null,
   "id": "96788eba",
   "metadata": {},
   "outputs": [],
   "source": [
    "def encrypt_and_print(input_filename):\n",
    "    with open(input_filename, 'r') as infile:\n",
    "        content = infile.read()\n",
    "        encrypted_content = process_text(content, piglatin_encode)\n",
    "    print(f\"I did it, I did it! Here is your, drumroll... encrypted document!: \\n{encrypted_content}\")"
   ]
  },
  {
   "cell_type": "markdown",
   "id": "bcac19ac",
   "metadata": {},
   "source": [
    " "
   ]
  },
  {
   "cell_type": "code",
   "execution_count": null,
   "id": "91e24baa",
   "metadata": {},
   "outputs": [],
   "source": [
    "if __name__ == \"__main__\":\n",
    "    input_file = \"Encrypt.txt\"\n",
    "\n",
    "    encrypt_and_print(input_file)"
   ]
  },
  {
   "cell_type": "markdown",
   "id": "ffa0bb33",
   "metadata": {},
   "source": [
    " "
   ]
  }
 ],
 "metadata": {
  "kernelspec": {
   "display_name": "Python 3 (ipykernel)",
   "language": "python",
   "name": "python3"
  },
  "language_info": {
   "codemirror_mode": {
    "name": "ipython",
    "version": 3
   },
   "file_extension": ".py",
   "mimetype": "text/x-python",
   "name": "python",
   "nbconvert_exporter": "python",
   "pygments_lexer": "ipython3",
   "version": "3.9.5"
  }
 },
 "nbformat": 4,
 "nbformat_minor": 5
}
